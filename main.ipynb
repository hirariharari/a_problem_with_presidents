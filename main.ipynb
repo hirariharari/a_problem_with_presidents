{
 "cells": [
  {
   "cell_type": "code",
   "execution_count": 63,
   "metadata": {},
   "outputs": [],
   "source": [
    "#IMPORTS\n",
    "\n",
    "import pandas as pd\n",
    "import numpy as np\n",
    "import requests\n",
    "import os\n",
    "import matplotlib.pyplot as plt\n",
    "from tabulate import tabulate "
   ]
  },
  {
   "cell_type": "code",
   "execution_count": 64,
   "metadata": {},
   "outputs": [],
   "source": [
    "#HELPER FUNCTIONS\n",
    "\n",
    "def get_ranked(df, sort_column, sort_flag, num_rows):\n",
    "    '''Sort dataframe according to parameters and display specified number of rows as result'''\n",
    "    df = df.sort_values(sort_column, ascending=sort_flag).head(num_rows)\n",
    "    df.reset_index(inplace=True, drop=True)\n",
    "    return df\n",
    "\n",
    "def print_table(table, keys='keys'):\n",
    "    '''Tabulate dataframe with nice formatting'''\n",
    "    print(tabulate(table, headers=keys, tablefmt='fancy_outline'))\n",
    "\n",
    "def plot_stats(df, flag):\n",
    "    '''Plot the statistics dataframe with scale in either days or years'''\n",
    "    if flag == 'years':\n",
    "        df = df.div(365.25, axis=0)\n",
    "\n",
    "    plt.figure()\n",
    "    ax = df.transpose().plot.bar(xlabel='Statistic', ylabel='Value (in {})'.format(flag), legend=None)\n",
    "    ax.set_xticklabels(ax.get_xticklabels(), rotation = 0)\n",
    "    plt.axhline(y=df['mean'][0], color='r')\n",
    "    plt.legend(['Mean'])\n",
    "    plt.savefig('plots/Statistics_{}.png'.format(flag))\n",
    "    plt.close()"
   ]
  },
  {
   "cell_type": "code",
   "execution_count": 65,
   "metadata": {},
   "outputs": [],
   "source": [
    "#PRELIMINARY PROCESSING\n",
    "\n",
    "#input .csv file\n",
    "input_file_name = 'U.S. Presidents Birth and Death Information - Sheet1.csv'\n",
    "input_file_url = 'https://raw.githubusercontent.com/senrabc/a_problem_with_presidents/main/' + input_file_name\n",
    "\n",
    "#output plot directory\n",
    "output_plot = 'plots'\n",
    "\n",
    "#check if file is available locally, else download it\n",
    "if(not os.path.isfile(input_file_name)):\n",
    "    res = requests.get(input_file_url)\n",
    "    open(input_file_name, 'wb').write(res.content)\n",
    "\n",
    "#check if plots/ directory exists, if not, create it\n",
    "if(not os.path.isdir(output_plot)):\n",
    "    os.makedirs((output_plot))"
   ]
  },
  {
   "cell_type": "code",
   "execution_count": 66,
   "metadata": {},
   "outputs": [],
   "source": [
    "#WORKING WITH THE DATAFRAME\n",
    "\n",
    "#create dataframe from input csv\n",
    "df = pd.read_csv(input_file_name)\n",
    "\n",
    "#remove 'References' row in the dataframe\n",
    "df.drop(df.tail(1).index, inplace=True)\n",
    "\n",
    "#Convert to convenient Datetime objects\n",
    "df['cleanedDOB'] = pd.to_datetime(df['BIRTH DATE']) \n",
    "df['cleanedDOD'] = pd.to_datetime(df['DEATH DATE'])\n"
   ]
  },
  {
   "cell_type": "code",
   "execution_count": 67,
   "metadata": {},
   "outputs": [],
   "source": [
    "#calculate year_of_birth\n",
    "df['year_of_birth'] = df['cleanedDOB'].dt.year\n",
    "#current day normalized to midnight 00:00:00\n",
    "today = pd.Timestamp.now().normalize()\n",
    "#calculate days lived\n",
    "df['lived_days'] = (df['cleanedDOD'] - df['cleanedDOB']).where(df['cleanedDOD'].notnull(), other=today - df['cleanedDOB']).dt.days\n",
    "#calculate years lived\n",
    "df['lived_years'] = (df['lived_days'] / 365.25).astype(int)\n",
    "#calculate months lived\n",
    "df['months_lived'] = (df['lived_days'] / 12.0).astype(int)"
   ]
  },
  {
   "cell_type": "code",
   "execution_count": 68,
   "metadata": {},
   "outputs": [
    {
     "name": "stdout",
     "output_type": "stream",
     "text": [
      "Top 10 longest lived presidents\n",
      "╒════╤══════════════════╤═══════════════╤═══════════════╤══════════════╤═══════════════╕\n",
      "│    │ PRESIDENT        │ BIRTH DATE    │ DEATH DATE    │   lived_days │   lived_years │\n",
      "╞════╪══════════════════╪═══════════════╪═══════════════╪══════════════╪═══════════════╡\n",
      "│  0 │ Jimmy Carter     │ Oct 1, 1924   │ nan           │        35870 │            98 │\n",
      "│  1 │ George Bush      │ June 12, 1924 │ Nov 30, 2018  │        34504 │            94 │\n",
      "│  2 │ Gerald Ford      │ July 14, 1913 │ Dec 26, 2006  │        34133 │            93 │\n",
      "│  3 │ Ronald Reagan    │ Feb 6, 1911   │ June 5, 2004  │        34088 │            93 │\n",
      "│  4 │ John Adams       │ Oct 30, 1735  │ July 4, 1826  │        33119 │            90 │\n",
      "│  5 │ Herbert Hoover   │ Aug 10, 1874  │ Oct 20, 1964  │        32943 │            90 │\n",
      "│  6 │ Harry S. Truman  │ May 8, 1884   │ Dec 26, 1972  │        32373 │            88 │\n",
      "│  7 │ James Madison    │ Mar 16, 1751  │ June 28, 1836 │        31150 │            85 │\n",
      "│  8 │ Thomas Jefferson │ Apr 13, 1743  │ July 4, 1826  │        30397 │            83 │\n",
      "│  9 │ Richard Nixon    │ Jan 9, 1913   │ Apr 22, 1994  │        29688 │            81 │\n",
      "╘════╧══════════════════╧═══════════════╧═══════════════╧══════════════╧═══════════════╛\n",
      "Top 10 shortest lived presidents\n",
      "╒════╤════════════════════╤══════════════╤═══════════════╤══════════════╤═══════════════╕\n",
      "│    │ PRESIDENT          │ BIRTH DATE   │ DEATH DATE    │   lived_days │   lived_years │\n",
      "╞════╪════════════════════╪══════════════╪═══════════════╪══════════════╪═══════════════╡\n",
      "│  0 │ John F. Kennedy    │ May 29, 1917 │ Nov 22, 1963  │        16978 │            46 │\n",
      "│  1 │ James A. Garfield  │ Nov 19, 1831 │ Sep 19, 1881  │        18202 │            49 │\n",
      "│  2 │ James K. Polk      │ Nov 2, 1795  │ June 15, 1849 │        19583 │            53 │\n",
      "│  3 │ Abraham Lincoln    │ Feb 12, 1809 │ Apr 15, 1865  │        20516 │            56 │\n",
      "│  4 │ Chester Arthur     │ Oct 5, 1829  │ Nov 18, 1886  │        20863 │            57 │\n",
      "│  5 │ Warren G. Harding  │ Nov 2, 1865  │ Aug 2, 1923   │        21091 │            57 │\n",
      "│  6 │ William McKinley   │ Jan 29, 1843 │ Sep 14, 1901  │        21412 │            58 │\n",
      "│  7 │ Theodore Roosevelt │ Oct 27, 1858 │ Jan 6, 1919   │        21985 │            60 │\n",
      "│  8 │ Calvin Coolidge    │ July 4, 1872 │ Jan 5, 1933   │        22099 │            60 │\n",
      "│  9 │ Barack Obama       │ Aug 4, 1961  │ nan           │        22414 │            61 │\n",
      "╘════╧════════════════════╧══════════════╧═══════════════╧══════════════╧═══════════════╛\n"
     ]
    }
   ],
   "source": [
    "#top 10 longest lived presidents\n",
    "longest_lived = get_ranked(df, 'lived_days', False, 10)\n",
    "\n",
    "#top 10 shortest lived presidents\n",
    "shortest_lived = get_ranked(df, 'lived_days', True, 10)\n",
    "\n",
    "#print top 10 presidents\n",
    "columns_to_display = ['PRESIDENT', 'BIRTH DATE', 'DEATH DATE', 'lived_days', 'lived_years']\n",
    "\n",
    "print('Top 10 longest lived presidents')\n",
    "print_table(longest_lived[columns_to_display])\n",
    "\n",
    "print('Top 10 shortest lived presidents')\n",
    "print_table(shortest_lived[columns_to_display])"
   ]
  },
  {
   "cell_type": "code",
   "execution_count": 69,
   "metadata": {},
   "outputs": [
    {
     "name": "stdout",
     "output_type": "stream",
     "text": [
      "Statistics (in days)\n",
      "╒═══════════════╤════════════════════╕\n",
      "│ mean          │ 26423.644444444446 │\n",
      "│ median        │ 26227.0            │\n",
      "│ max           │ 35870              │\n",
      "│ min           │ 16978              │\n",
      "│ mode(years)   │ [67, 76]           │\n",
      "│ weighted avg. │ 26423.644444444446 │\n",
      "╘═══════════════╧════════════════════╛\n"
     ]
    }
   ],
   "source": [
    "#New dataframe for statistics\n",
    "stats = pd.DataFrame()\n",
    "#calculate mean\n",
    "stats['mean'] = [df['lived_days'].mean()]\n",
    "#calculate median\n",
    "stats['median'] = [df['lived_days'].median()]\n",
    "#calculate max value\n",
    "stats['max'] = [df['lived_days'].max()]\n",
    "#calculate min value\n",
    "stats['min'] = [df['lived_days'].min()]\n",
    "#calculate mode (using lived_years for sensible results)\n",
    "stats['mode(years)'] = [df['lived_years'].mode().tolist()]\n",
    "\n",
    "#constant weight for all values\n",
    "std = df['lived_days'].std()\n",
    "w_i = 1 / (std * std)\n",
    "#calculate weighted average\n",
    "w_avg = (df['lived_days'].sum() * w_i) / (w_i * df.shape[0])\n",
    "#assign w_avg to appropriate column\n",
    "stats['weighted avg.'] = [w_avg]\n",
    "\n",
    "#print statistics table\n",
    "print('Statistics (in days)')\n",
    "print_table(stats.transpose(), '')"
   ]
  },
  {
   "cell_type": "code",
   "execution_count": 70,
   "metadata": {},
   "outputs": [
    {
     "name": "stdout",
     "output_type": "stream",
     "text": [
      "Statistics (in years)\n",
      "╒═══════════════╤════════════════════╕\n",
      "│ mean          │ 72.343995741121    │\n",
      "│ median        │ 71.80561259411363  │\n",
      "│ max           │ 98.20670773442848  │\n",
      "│ min           │ 46.483230663928815 │\n",
      "│ mode(years)   │ [67, 76]           │\n",
      "│ weighted avg. │ 72.343995741121    │\n",
      "╘═══════════════╧════════════════════╛\n"
     ]
    }
   ],
   "source": [
    "#print statistics (in years)\n",
    "stat_years = stats.copy()\n",
    "sty = stats.loc[:, stats.columns != 'mode(years)'].div(365.25)\n",
    "stat_years[sty.columns] = sty\n",
    "\n",
    "#print statistics table\n",
    "print('Statistics (in years)')\n",
    "print_table(stat_years.transpose(), '')"
   ]
  },
  {
   "cell_type": "code",
   "execution_count": 71,
   "metadata": {},
   "outputs": [],
   "source": [
    "#PLOTTING\n",
    "#pyplot configuration\n",
    "plt.style.use('default')\n",
    "\n",
    "#copy of stats dataframe\n",
    "stt = stats.copy()\n",
    "#we use first value in mode array and convert to days\n",
    "stt['mode'] = stt['mode(years)'][0][0] * 365.25\n",
    "#drop mode(years)\n",
    "stt.drop('mode(years)', axis=1, inplace=True)"
   ]
  },
  {
   "cell_type": "code",
   "execution_count": 72,
   "metadata": {},
   "outputs": [
    {
     "data": {
      "text/plain": [
       "<Figure size 640x480 with 0 Axes>"
      ]
     },
     "metadata": {},
     "output_type": "display_data"
    },
    {
     "data": {
      "text/plain": [
       "<Figure size 640x480 with 0 Axes>"
      ]
     },
     "metadata": {},
     "output_type": "display_data"
    }
   ],
   "source": [
    "#plot statistics (in days) as a bar graph\n",
    "plot_stats(stt, 'days')\n",
    "\n",
    "#plot statistics (in years) as a bar graph\n",
    "plot_stats(stt, 'years')"
   ]
  },
  {
   "cell_type": "code",
   "execution_count": 73,
   "metadata": {},
   "outputs": [],
   "source": [
    "#get frequencies of president ages (years)\n",
    "plt.figure()\n",
    "freq = df['lived_years'].value_counts()\n",
    "freqmax = freq.max()\n",
    "ax2 = freq.plot(kind='bar', xlabel='Age(years)', ylabel='No. of presidents')\n",
    "ax2.set_yticks(range(0, freqmax + 1))\n",
    "plt.savefig('plots/Age_Freq.png')\n",
    "plt.close()"
   ]
  },
  {
   "cell_type": "code",
   "execution_count": 74,
   "metadata": {},
   "outputs": [],
   "source": [
    "#plotting living vs dead presidents\n",
    "plt.figure()\n",
    "total_presidents = df.shape[0]\n",
    "num_living = df['cleanedDOD'].isna().sum()\n",
    "num_dead = total_presidents - num_living\n",
    "ax3 = plt.bar(['Living', 'Dead'],[num_living, num_dead])\n",
    "plt.xlabel('Status')\n",
    "plt.ylabel('No. of presidents')\n",
    "plt.savefig('plots/Status.png')\n",
    "plt.close()"
   ]
  }
 ],
 "metadata": {
  "kernelspec": {
   "display_name": "Python 3",
   "language": "python",
   "name": "python3"
  },
  "language_info": {
   "codemirror_mode": {
    "name": "ipython",
    "version": 3
   },
   "file_extension": ".py",
   "mimetype": "text/x-python",
   "name": "python",
   "nbconvert_exporter": "python",
   "pygments_lexer": "ipython3",
   "version": "3.8.10"
  },
  "orig_nbformat": 4,
  "vscode": {
   "interpreter": {
    "hash": "916dbcbb3f70747c44a77c7bcd40155683ae19c65e1c03b4aa3499c5328201f1"
   }
  }
 },
 "nbformat": 4,
 "nbformat_minor": 2
}
